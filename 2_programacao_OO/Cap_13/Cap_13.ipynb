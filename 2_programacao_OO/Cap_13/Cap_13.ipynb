{
 "cells": [
  {
   "cell_type": "markdown",
   "metadata": {},
   "source": [
    "## Capítulo 13\n",
    "***\n",
    "\n",
    "- Encapsulamento: \n",
    "- Abstração: \n",
    "- Polimorfismo:\n",
    "- Herança:"
   ]
  },
  {
   "cell_type": "code",
   "execution_count": 3,
   "metadata": {},
   "outputs": [
    {
     "data": {
      "text/plain": [
       "float"
      ]
     },
     "execution_count": 3,
     "metadata": {},
     "output_type": "execute_result"
    }
   ],
   "source": [
    "type(\"Hello\")\n",
    "type(100.1)"
   ]
  },
  {
   "cell_type": "markdown",
   "metadata": {},
   "source": [
    "## Desafios\n",
    "***"
   ]
  },
  {
   "cell_type": "code",
   "execution_count": 1,
   "metadata": {},
   "outputs": [
    {
     "name": "stdout",
     "output_type": "stream",
     "text": [
      "150\n",
      "80\n"
     ]
    }
   ],
   "source": [
    "class Rectangle():\n",
    "    def __init__(self, width, length):\n",
    "        self.width = width\n",
    "        self.length = length\n",
    "\n",
    "    def calculate_perimeter(self):\n",
    "        return self.width * 2 + self.length * 2\n",
    "\n",
    "\n",
    "class Square():\n",
    "    def __init__(self, s1):\n",
    "        self.s1 = s1\n",
    "\n",
    "    def calculate_perimeter(self):\n",
    "        return self.s1 * 4\n",
    "\n",
    "a_rectangle = Rectangle(25, 50)\n",
    "a_square = Square(20)\n",
    "\n",
    "print(a_rectangle.calculate_perimeter())\n",
    "print(a_square.calculate_perimeter())\n",
    "\n"
   ]
  },
  {
   "cell_type": "code",
   "execution_count": 3,
   "metadata": {},
   "outputs": [
    {
     "name": "stdout",
     "output_type": "stream",
     "text": [
      "100\n",
      "300\n"
     ]
    }
   ],
   "source": [
    "class Square():\n",
    "    def __init__(self, s1):\n",
    "        self.s1 = s1\n",
    "\n",
    "    def calculate_perimeter(self):\n",
    "        return self.s1 * 4\n",
    "\n",
    "    def change_size(self, new_size):\n",
    "        self.s1 += new_size\n",
    "\n",
    "a_square = Square(100)\n",
    "print(a_square.s1)\n",
    "\n",
    "a_square.change_size(200)\n",
    "print(a_square.s1)"
   ]
  },
  {
   "cell_type": "code",
   "execution_count": 5,
   "metadata": {},
   "outputs": [
    {
     "name": "stdout",
     "output_type": "stream",
     "text": [
      "I am a shape.\n",
      "I am a shape.\n",
      "<__main__.Rectangle object at 0x000001ED6CF1F790>\n"
     ]
    }
   ],
   "source": [
    "class Shape():\n",
    "    def what_am_i(self):\n",
    "        print(\"I am a shape.\")\n",
    "\n",
    "\n",
    "class Rectangle(Shape):\n",
    "    def __init__(self, width, length):\n",
    "        self.width = width\n",
    "        self.length = length\n",
    "\n",
    "    def calculate_perimeter(self):\n",
    "        return self.width * 2 + self.length * 2\n",
    "\n",
    "\n",
    "class Square(Shape):\n",
    "    def __init__(self, s1):\n",
    "        self.s1 = s1\n",
    "\n",
    "    def calculate_perimeter(self):\n",
    "        return self.s1 * 4\n",
    "\n",
    "a_rectangle = Rectangle(20, 50)\n",
    "a_square = Square(29)\n",
    "\n",
    "a_rectangle.what_am_i()\n",
    "a_square.what_am_i()\n"
   ]
  },
  {
   "cell_type": "code",
   "execution_count": 6,
   "metadata": {},
   "outputs": [
    {
     "name": "stdout",
     "output_type": "stream",
     "text": [
      "The name of Horse is Harry\n",
      "The name of Rider is Sally\n"
     ]
    }
   ],
   "source": [
    "class Rider():\n",
    "    def __init__(self, name):\n",
    "        self.name = name\n",
    "\n",
    "\n",
    "class Horse():\n",
    "    def __init__(self, name, rider):\n",
    "        self.name = name\n",
    "        self.rider = rider\n",
    "\n",
    "the_rider = Rider(\"Sally\")\n",
    "harry_the_horse = Horse(\"Harry\", the_rider)\n",
    "\n",
    "print(\"The name of Horse is {}\".format(harry_the_horse.name))\n",
    "print(\"The name of Rider is {}\".format(harry_the_horse.rider.name))"
   ]
  }
 ],
 "metadata": {
  "kernelspec": {
   "display_name": "Python 3",
   "language": "python",
   "name": "python3"
  },
  "language_info": {
   "codemirror_mode": {
    "name": "ipython",
    "version": 3
   },
   "file_extension": ".py",
   "mimetype": "text/x-python",
   "name": "python",
   "nbconvert_exporter": "python",
   "pygments_lexer": "ipython3",
   "version": "3.11.9"
  }
 },
 "nbformat": 4,
 "nbformat_minor": 2
}
