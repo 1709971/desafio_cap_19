{
 "cells": [
  {
   "cell_type": "markdown",
   "metadata": {},
   "source": [
    "## Capítulo 12\n",
    "***\n",
    "- programaçao procedural:\n",
    "- funcional: lambda / sem estado global / \n",
    "- orientada a objetos: \n",
    "\n",
    "\"Obs\": \n",
    "- nomear: MinhaClasse, minha_funcao / (meu_metodo, o primeiro parâmetro como self)\n",
    "- os métodos são como funções mas dentro da classe\n",
    "\n"
   ]
  },
  {
   "cell_type": "code",
   "execution_count": 1,
   "metadata": {},
   "outputs": [
    {
     "name": "stdout",
     "output_type": "stream",
     "text": [
      "['em']\n",
      "['q']\n"
     ]
    }
   ],
   "source": [
    "# Thank you so much for purchasing my book! Feel free to contact me at cory[at]theselftaughtprogrammer.io.\n",
    "# If you are enjoying it, please consider leaving a review on Amazon :). Keep up the hard work!\n",
    "\n",
    "rock = []\n",
    "country = []\n",
    "\n",
    "\n",
    "def collect_songs():\n",
    "    song = \"Enter a song.\"\n",
    "    ask = \"Type r or c. q to quit\"\n",
    "\n",
    "    while True:\n",
    "        genre = input(ask)\n",
    "        if genre == \"q\":\n",
    "            break\n",
    "\n",
    "        if genre == \"r\":\n",
    "            rk = input(song)\n",
    "            rock.append(rk)\n",
    "\n",
    "        elif genre ==(\"c\"):\n",
    "            cy = input(song)\n",
    "            country.append(cy)\n",
    "\n",
    "        else:\n",
    "            print(\"Invalid.\")\n",
    "    print(rock)\n",
    "    print(country)\n",
    "\n",
    "collect_songs()"
   ]
  },
  {
   "cell_type": "code",
   "execution_count": 17,
   "metadata": {},
   "outputs": [],
   "source": [
    "a = 0\n",
    "def increment():\n",
    "    global a\n",
    "    a += 1\n"
   ]
  },
  {
   "cell_type": "code",
   "execution_count": 14,
   "metadata": {},
   "outputs": [
    {
     "data": {
      "text/plain": [
       "11"
      ]
     },
     "execution_count": 14,
     "metadata": {},
     "output_type": "execute_result"
    }
   ],
   "source": [
    "def increment(a):\n",
    "    return a + 1\n",
    "increment(10)\n",
    "    "
   ]
  },
  {
   "cell_type": "code",
   "execution_count": 18,
   "metadata": {},
   "outputs": [],
   "source": [
    "#self (variável de instância)\n",
    "class Orange():\n",
    "    #__init__ (método especial, chamado quando criamos um objeto)\n",
    "    def __init__(self) -> None:\n",
    "        print(\"Created\")"
   ]
  },
  {
   "cell_type": "code",
   "execution_count": 32,
   "metadata": {},
   "outputs": [
    {
     "name": "stdout",
     "output_type": "stream",
     "text": [
      "Created!\n",
      "Created!\n",
      "Created!\n",
      "1 - Peso: 10 Cor amarela\n",
      "2 - Peso: 20 Cor amarela\n",
      "3 - Peso: 30 Cor amarela\n"
     ]
    }
   ],
   "source": [
    "# Thank you so much for purchasing my book! Feel free to contact me at cory[at]theselftaughtprogrammer.io.\n",
    "# If you are enjoying it, please consider leaving a review on Amazon :). Keep up the hard work!\n",
    "\n",
    "\n",
    "class Orange:\n",
    "    # __metodo_magico__\n",
    "    def __init__(self, w, c):\n",
    "        self.weight = w\n",
    "        self.color = c\n",
    "        print(\"Created!\")\n",
    "\n",
    "or1 = Orange(10,\"amarela\")\n",
    "or2 = Orange(20,\"amarela\")\n",
    "or3 = Orange(30,\"amarela\")\n",
    "\n",
    "# or1.weight = 200\n",
    "print(\"1 - Peso:\",or1.weight,\"Cor\",or1.color)\n",
    "print(\"2 - Peso:\",or2.weight,\"Cor\",or2.color)\n",
    "print(\"3 - Peso:\",or3.weight,\"Cor\",or3.color)\n"
   ]
  },
  {
   "cell_type": "code",
   "execution_count": 33,
   "metadata": {},
   "outputs": [
    {
     "name": "stdout",
     "output_type": "stream",
     "text": [
      "200\n",
      "800\n"
     ]
    }
   ],
   "source": [
    "# Thanks so much for reading my book. Feel free to contact me at cory[at]theselftaughtprogrammer.io.\n",
    "\n",
    "\n",
    "class Rectangle():\n",
    "    def __init__(self, w, l):\n",
    "        self.width = w\n",
    "        self.len = l\n",
    "\n",
    "    def area(self):\n",
    "        return self.width * self.len\n",
    "\n",
    "    def change_size(self, w, l):\n",
    "        self.width = w\n",
    "        self.len = l\n",
    "\n",
    "rectangle = Rectangle(10, 20)\n",
    "print(rectangle.area())\n",
    "\n",
    "rectangle.change_size(20, 40)\n",
    "print(rectangle.area())"
   ]
  },
  {
   "cell_type": "markdown",
   "metadata": {},
   "source": [
    "## Desafios\n",
    "***"
   ]
  },
  {
   "cell_type": "code",
   "execution_count": null,
   "metadata": {},
   "outputs": [],
   "source": [
    "class Apple():\n",
    "    def __init__(self,color,peso):\n",
    "        self.color = color\n",
    "        self.peso = peso"
   ]
  },
  {
   "cell_type": "code",
   "execution_count": 39,
   "metadata": {},
   "outputs": [
    {
     "name": "stdout",
     "output_type": "stream",
     "text": [
      "3.141592653589793\n"
     ]
    }
   ],
   "source": [
    "import math\n",
    "\n",
    "class Circle():\n",
    "    def __init__(self,raio):\n",
    "        self.raio = raio\n",
    "\n",
    "\n",
    "    def calcular(self):\n",
    "        return self.raio ** 2 * math.pi\n",
    "    \n",
    "a_circle = Circle(1)\n",
    "print(a_circle.calcular())\n",
    "\n"
   ]
  },
  {
   "cell_type": "code",
   "execution_count": 42,
   "metadata": {},
   "outputs": [
    {
     "name": "stdout",
     "output_type": "stream",
     "text": [
      "3.0\n",
      "5\n"
     ]
    }
   ],
   "source": [
    "class Triangulo():\n",
    "    def __init__(self,base,altura) -> None:\n",
    "        self.base = base\n",
    "        self.altura = altura\n",
    "\n",
    "    def calcular_t(self):\n",
    "        return self.base * self.altura / 2\n",
    "    \n",
    "    def somar_t(self):\n",
    "        return self.base + self.altura\n",
    "    \n",
    "objeto_t = Triangulo(2,3)\n",
    "print(objeto_t.calcular_t())\n",
    "print(objeto_t.somar_t())"
   ]
  },
  {
   "cell_type": "code",
   "execution_count": 43,
   "metadata": {},
   "outputs": [
    {
     "name": "stdout",
     "output_type": "stream",
     "text": [
      "21\n"
     ]
    }
   ],
   "source": [
    "class Hexagon():\n",
    "    def __init__(self, s1, s2, s3, s4, s5, s6):\n",
    "        self.s1 = s1\n",
    "        self.s2 = s2\n",
    "        self.s3 = s3\n",
    "        self.s4 = s4\n",
    "        self.s5 = s5\n",
    "        self.s6 = s6\n",
    "\n",
    "    def calculate_perimeter(self):\n",
    "        return self.s1 + self.s2 + self.s3 + self.s4 + self.s5 + self.s6\n",
    "\n",
    "a_hexagon = Hexagon(1, 2, 3, 4, 5, 6)\n",
    "print(a_hexagon.calculate_perimeter())"
   ]
  }
 ],
 "metadata": {
  "kernelspec": {
   "display_name": "Python 3",
   "language": "python",
   "name": "python3"
  },
  "language_info": {
   "codemirror_mode": {
    "name": "ipython",
    "version": 3
   },
   "file_extension": ".py",
   "mimetype": "text/x-python",
   "name": "python",
   "nbconvert_exporter": "python",
   "pygments_lexer": "ipython3",
   "version": "3.11.9"
  }
 },
 "nbformat": 4,
 "nbformat_minor": 2
}
