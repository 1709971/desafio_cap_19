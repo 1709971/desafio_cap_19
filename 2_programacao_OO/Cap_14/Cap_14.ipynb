{
 "cells": [
  {
   "cell_type": "markdown",
   "metadata": {},
   "source": [
    "## Capítulo 14\n",
    "***\n",
    "\n",
    "- variáveis de chave\n",
    "- variáveis de instância: self.nome da variável = valor da variável / \n"
   ]
  },
  {
   "cell_type": "code",
   "execution_count": 1,
   "metadata": {},
   "outputs": [
    {
     "name": "stdout",
     "output_type": "stream",
     "text": [
      "10 by 24\n",
      "              \n"
     ]
    }
   ],
   "source": [
    "class Rectangle():\n",
    "    def __init__(self, w, l):\n",
    "        self.width = w \n",
    "        self.length = l\n",
    "        # width e len são variáveis de instância\n",
    "\n",
    "    def print_size(self):\n",
    "        print(\"\"\"{} by {}\n",
    "              \"\"\".format(self.width,\n",
    "                         self.length))\n",
    "\n",
    "\n",
    "my_rectangle = Rectangle(10, 24)\n",
    "my_rectangle.print_size()"
   ]
  },
  {
   "cell_type": "code",
   "execution_count": 5,
   "metadata": {},
   "outputs": [
    {
     "name": "stdout",
     "output_type": "stream",
     "text": [
      "[(10, 24), (20, 40), (100, 200)]\n",
      "(10, 24)\n"
     ]
    }
   ],
   "source": [
    "# Thank you so much for purchasing my book! Feel free to contact me at cory[at]theselftaughtprogrammer.io.\n",
    "# If you are enjoying it, please consider leaving a review on Amazon :). Keep up the hard work!\n",
    "\n",
    "\n",
    "class Rectangle():\n",
    "    recs = []\n",
    "\n",
    "    def __init__(self, w, l):\n",
    "        self.width = w\n",
    "        self.len = l\n",
    "        self.recs.append((self.width,\n",
    "                          self.len))\n",
    "\n",
    "    def print_size(self):\n",
    "        print(\"\"\"{} by {}\n",
    "              \"\"\".format(self.width,\n",
    "                         self.len))\n",
    "\n",
    "r1 = Rectangle(10, 24)\n",
    "r2 = Rectangle(20, 40)\n",
    "r3 = Rectangle(100, 200)\n",
    "\n",
    "print(Rectangle.recs)\n",
    "print(Rectangle.recs[0])\n"
   ]
  },
  {
   "cell_type": "markdown",
   "metadata": {},
   "source": [
    "## Desafios\n",
    "***"
   ]
  },
  {
   "cell_type": "code",
   "execution_count": 14,
   "metadata": {},
   "outputs": [
    {
     "name": "stdout",
     "output_type": "stream",
     "text": [
      "[10, 20, 40, 40]\n"
     ]
    }
   ],
   "source": [
    "class Square():\n",
    "    square_list = []\n",
    "\n",
    "    def __init__(self, w):\n",
    "        self.width = w\n",
    "        # self.len = l\n",
    "        self.square_list.append((self.width))\n",
    "\n",
    "    def print_size(self):\n",
    "        print(\"\"\"{} by {}\n",
    "              \"\"\".format(self.width))\n",
    "        \n",
    "square1 = Square(10)\n",
    "square2 = Square(20)\n",
    "square3 = Square(40)\n",
    "square4 = Square(40)\n",
    "\n",
    "#criando objeto Square\n",
    "print(Square.square_list)"
   ]
  },
  {
   "cell_type": "code",
   "execution_count": 15,
   "metadata": {},
   "outputs": [
    {
     "name": "stdout",
     "output_type": "stream",
     "text": [
      "29 by 29 by 29 by 29\n"
     ]
    }
   ],
   "source": [
    "class Shape():\n",
    "    def what_am_i(self):\n",
    "        print(\"I am a shape.\")\n",
    "\n",
    "\n",
    "class Square(Shape):\n",
    "    square_list = []\n",
    "\n",
    "    def __init__(self, s1):\n",
    "        self.s1 = s1\n",
    "        self.square_list.append(self)\n",
    "\n",
    "    def calculate_perimeter(self):\n",
    "        return self.s1 * 4\n",
    "\n",
    "    def what_am_i(self):\n",
    "        super().what_am_i()\n",
    "        print(\"I am a Square.\")\n",
    "\n",
    "    def __repr__(self):\n",
    "        return \"{} by {} by {} by {}\".format(self.s1, self.s1, self.s1, self.s1)\n",
    "\n",
    "a_square = Square(29)\n",
    "print(a_square)"
   ]
  },
  {
   "cell_type": "code",
   "execution_count": 17,
   "metadata": {},
   "outputs": [
    {
     "name": "stdout",
     "output_type": "stream",
     "text": [
      "False\n"
     ]
    }
   ],
   "source": [
    "def compare(obj1, obj2):\n",
    "    return obj1 is obj2\n",
    "\n",
    "print(compare(\"a\", \"b\"))"
   ]
  }
 ],
 "metadata": {
  "kernelspec": {
   "display_name": "Python 3",
   "language": "python",
   "name": "python3"
  },
  "language_info": {
   "codemirror_mode": {
    "name": "ipython",
    "version": 3
   },
   "file_extension": ".py",
   "mimetype": "text/x-python",
   "name": "python",
   "nbconvert_exporter": "python",
   "pygments_lexer": "ipython3",
   "version": "3.11.9"
  }
 },
 "nbformat": 4,
 "nbformat_minor": 2
}
