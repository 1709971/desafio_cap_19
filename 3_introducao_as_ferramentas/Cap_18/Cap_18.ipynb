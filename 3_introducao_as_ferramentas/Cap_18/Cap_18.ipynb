{
 "cells": [
  {
   "cell_type": "markdown",
   "metadata": {},
   "source": [
    "## Capítulo 18\n",
    "***"
   ]
  },
  {
   "cell_type": "code",
   "execution_count": 4,
   "metadata": {},
   "outputs": [
    {
     "name": "stdout",
     "output_type": "stream",
     "text": [
      " * Serving Flask app '__main__'\n",
      " * Debug mode: off\n"
     ]
    },
    {
     "name": "stderr",
     "output_type": "stream",
     "text": [
      "WARNING: This is a development server. Do not use it in a production deployment. Use a production WSGI server instead.\n",
      " * Running on http://127.0.0.1:8000\n",
      "Press CTRL+C to quit\n",
      "127.0.0.1 - - [24/Sep/2024 18:43:15] \"GET / HTTP/1.1\" 200 -\n"
     ]
    }
   ],
   "source": [
    "from flask import Flask\n",
    "\n",
    "app = Flask(__name__)\n",
    "\n",
    "@app.route('/')\n",
    "def index():\n",
    "    return \"Olá Luiz Miguel\"\n",
    "\n",
    "app.run(port='8000')"
   ]
  },
  {
   "cell_type": "code",
   "execution_count": 9,
   "metadata": {},
   "outputs": [
    {
     "name": "stdout",
     "output_type": "stream",
     "text": [
      "{'login': 'defunkt', 'id': 2, 'node_id': 'MDQ6VXNlcjI=', 'avatar_url': 'https://avatars.githubusercontent.com/u/2?v=4', 'gravatar_id': '', 'url': 'https://api.github.com/users/defunkt', 'html_url': 'https://github.com/defunkt', 'followers_url': 'https://api.github.com/users/defunkt/followers', 'following_url': 'https://api.github.com/users/defunkt/following{/other_user}', 'gists_url': 'https://api.github.com/users/defunkt/gists{/gist_id}', 'starred_url': 'https://api.github.com/users/defunkt/starred{/owner}{/repo}', 'subscriptions_url': 'https://api.github.com/users/defunkt/subscriptions', 'organizations_url': 'https://api.github.com/users/defunkt/orgs', 'repos_url': 'https://api.github.com/users/defunkt/repos', 'events_url': 'https://api.github.com/users/defunkt/events{/privacy}', 'received_events_url': 'https://api.github.com/users/defunkt/received_events', 'type': 'User', 'site_admin': False, 'name': 'Chris Wanstrath', 'company': None, 'blog': 'http://chriswanstrath.com/', 'location': None, 'email': None, 'hireable': None, 'bio': '🍔', 'twitter_username': None, 'public_repos': 107, 'public_gists': 274, 'followers': 22386, 'following': 215, 'created_at': '2007-10-20T05:24:19Z', 'updated_at': '2024-09-10T01:19:16Z'}\n"
     ]
    }
   ],
   "source": [
    "import requests\n",
    "\n",
    "response = requests.get('https://api.github.com/users/defunkt')\n",
    "# response = requests.get('https://www.google.com')\n",
    "print(response.json())"
   ]
  }
 ],
 "metadata": {
  "kernelspec": {
   "display_name": "Python 3",
   "language": "python",
   "name": "python3"
  },
  "language_info": {
   "codemirror_mode": {
    "name": "ipython",
    "version": 3
   },
   "file_extension": ".py",
   "mimetype": "text/x-python",
   "name": "python",
   "nbconvert_exporter": "python",
   "pygments_lexer": "ipython3",
   "version": "3.11.9"
  }
 },
 "nbformat": 4,
 "nbformat_minor": 2
}
