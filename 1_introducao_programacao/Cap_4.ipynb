{
 "cells": [
  {
   "cell_type": "code",
   "execution_count": 16,
   "metadata": {},
   "outputs": [
    {
     "name": "stdout",
     "output_type": "stream",
     "text": [
      "Collecting datetime\n",
      "  Downloading DateTime-5.5-py3-none-any.whl.metadata (33 kB)\n",
      "Collecting zope.interface (from datetime)\n",
      "  Downloading zope.interface-7.0.3-cp311-cp311-win_amd64.whl.metadata (44 kB)\n",
      "     ---------------------------------------- 0.0/44.8 kB ? eta -:--:--\n",
      "     ---------------------------------- --- 41.0/44.8 kB 960.0 kB/s eta 0:00:01\n",
      "     -------------------------------------- 44.8/44.8 kB 443.2 kB/s eta 0:00:00\n",
      "Requirement already satisfied: pytz in c:\\users\\luizc\\appdata\\local\\packages\\pythonsoftwarefoundation.python.3.11_qbz5n2kfra8p0\\localcache\\local-packages\\python311\\site-packages (from datetime) (2024.1)\n",
      "Requirement already satisfied: setuptools in c:\\program files\\windowsapps\\pythonsoftwarefoundation.python.3.11_3.11.2544.0_x64__qbz5n2kfra8p0\\lib\\site-packages (from zope.interface->datetime) (65.5.0)\n",
      "Downloading DateTime-5.5-py3-none-any.whl (52 kB)\n",
      "   ---------------------------------------- 0.0/52.6 kB ? eta -:--:--\n",
      "   -------------------------------------- - 51.2/52.6 kB ? eta -:--:--\n",
      "   ---------------------------------------- 52.6/52.6 kB 902.3 kB/s eta 0:00:00\n",
      "Downloading zope.interface-7.0.3-cp311-cp311-win_amd64.whl (211 kB)\n",
      "   ---------------------------------------- 0.0/212.0 kB ? eta -:--:--\n",
      "   ------------------------------------- - 204.8/212.0 kB 12.2 MB/s eta 0:00:01\n",
      "   ---------------------------------------- 212.0/212.0 kB 3.2 MB/s eta 0:00:00\n",
      "Installing collected packages: zope.interface, datetime\n",
      "Successfully installed datetime-5.5 zope.interface-7.0.3\n",
      "Note: you may need to restart the kernel to use updated packages.\n"
     ]
    },
    {
     "name": "stderr",
     "output_type": "stream",
     "text": [
      "\n",
      "[notice] A new release of pip is available: 24.0 -> 24.2\n",
      "[notice] To update, run: C:\\Users\\luizc\\AppData\\Local\\Microsoft\\WindowsApps\\PythonSoftwareFoundation.Python.3.11_qbz5n2kfra8p0\\python.exe -m pip install --upgrade pip\n"
     ]
    }
   ],
   "source": [
    "# pip install datetime"
   ]
  },
  {
   "cell_type": "markdown",
   "metadata": {},
   "source": [
    "## Funções\n",
    "***\n",
    "- cada entrada de uma função é um parâmetro\n"
   ]
  },
  {
   "cell_type": "code",
   "execution_count": 10,
   "metadata": {},
   "outputs": [
    {
     "name": "stdout",
     "output_type": "stream",
     "text": [
      "60\n",
      "/n ################# /n\n",
      "12\n",
      "/n ################# /n\n",
      "<class 'str'>\n",
      "<class 'int'>\n",
      "10\n"
     ]
    }
   ],
   "source": [
    "def mult (x):\n",
    "    return x+10\n",
    "\n",
    "r = mult(50)\n",
    "\n",
    "print(r)\n",
    "\n",
    "print(\"/n\",\"#################\",\"/n\")\n",
    "\n",
    "contar_string = \"Luiz Claudio\"\n",
    "print(len(contar_string))\n",
    "\n",
    "print(\"/n\",\"#################\",\"/n\")\n",
    "\n",
    "str(100)\n",
    "print(str)\n",
    "int(\"10\")\n",
    "print(int)\n",
    "\n",
    "t_inteiro = int(\"10\")\n",
    "print(t_inteiro)\n",
    "\n"
   ]
  },
  {
   "cell_type": "markdown",
   "metadata": {},
   "source": [
    "## Input\n",
    "***"
   ]
  },
  {
   "cell_type": "code",
   "execution_count": 24,
   "metadata": {},
   "outputs": [
    {
     "name": "stdout",
     "output_type": "stream",
     "text": [
      "Você tem 10 anos e não pode tirar carteira\n",
      "Seu nome é Luiz e você tem 10 anos de idade.\n",
      "/n ################# /n\n",
      "Even\n",
      "/n ################# /n\n",
      "Agora são 07:37 horas do dia 12/09/2024\n"
     ]
    }
   ],
   "source": [
    "age = input(\"Qual sua idade?\")\n",
    "\n",
    "int_age = int(age)\n",
    "if int_age > 18:\n",
    "    print(f\"Você tem {int_age} anos e pode tirar carteira\")\n",
    "    print(\"Seu nome é {} e você tem {} anos de idade.\".format(\"Luiz\", int_age))\n",
    "else:\n",
    "    print(f\"Você tem {int_age} anos e não pode tirar carteira\")\n",
    "    print(\"Seu nome é {} e você tem {} anos de idade.\".format(\"Luiz\", int_age))\n",
    "\n",
    "\n",
    "print(\"/n\",\"#################\",\"/n\")\n",
    "\n",
    "def even_odd(x):\n",
    "    if x % 2 == 0:\n",
    "        print(\"Even\")\n",
    "    else:\n",
    "        print(\"Odd\")\n",
    "\n",
    "even_odd(int_age)\n",
    "\n",
    "print(\"/n\",\"#################\",\"/n\")\n",
    "\n",
    "\n",
    "from datetime import datetime\n",
    "\n",
    "agora = datetime.now()\n",
    "print(f\"Agora são {agora:%H:%M} horas do dia {agora:%d/%m/%Y}\")\n"
   ]
  },
  {
   "cell_type": "code",
   "execution_count": 33,
   "metadata": {},
   "outputs": [
    {
     "name": "stdout",
     "output_type": "stream",
     "text": [
      "Declarada global: 200\n",
      "##################\n",
      "Declarada na função:  210\n",
      "Valor de Y:  310\n"
     ]
    }
   ],
   "source": [
    "x = 200\n",
    "print(\"Declarada global:\",x)\n",
    "\n",
    "print(\"##################\")\n",
    "\n",
    "def exemplo():\n",
    "    print(\"Declarada na função: \",x+10)\n",
    "    y = 300\n",
    "    print(\"Valor de Y: \",y+10)\n",
    "\n",
    "exemplo()\n"
   ]
  },
  {
   "cell_type": "code",
   "execution_count": 39,
   "metadata": {},
   "outputs": [
    {
     "name": "stdout",
     "output_type": "stream",
     "text": [
      "1.0\n"
     ]
    }
   ],
   "source": [
    "a = input(\"Tipo de numero\")\n",
    "b = input(\"Outro tipo\")\n",
    "\n",
    "a = int(a)\n",
    "b = int(b)\n",
    "\n",
    "print(a/b)"
   ]
  },
  {
   "cell_type": "markdown",
   "metadata": {},
   "source": [
    "## Manipulação de exceções\n",
    "***"
   ]
  },
  {
   "cell_type": "code",
   "execution_count": 47,
   "metadata": {},
   "outputs": [
    {
     "name": "stdout",
     "output_type": "stream",
     "text": [
      "1.0\n"
     ]
    }
   ],
   "source": [
    "try:\n",
    "    a = input(\"type a number:\")\n",
    "    b = input(\"type another:\")\n",
    "    a = int(a)\n",
    "    b = int(b)\n",
    "    print(a / b)\n",
    "except(ZeroDivisionError, ValueError):\n",
    "        print(\"Entrada inválida, talvez você esteja digitando 0 ou texto na divisão\")"
   ]
  },
  {
   "cell_type": "markdown",
   "metadata": {},
   "source": [
    "## Desafios\n",
    "***\n"
   ]
  },
  {
   "cell_type": "code",
   "execution_count": 79,
   "metadata": {},
   "outputs": [
    {
     "name": "stdout",
     "output_type": "stream",
     "text": [
      "/n Desafio 5 - ############################## /n\n"
     ]
    },
    {
     "data": {
      "text/plain": [
       "2.99999"
      ]
     },
     "execution_count": 79,
     "metadata": {},
     "output_type": "execute_result"
    }
   ],
   "source": [
    "# print(\"/n\",\"Desafio 1 - ##############################\",\"/n\")\n",
    "\n",
    "\"\"\"\n",
    "\n",
    "Aqui está o docstring de minha função\n",
    "\n",
    "\"\"\"\n",
    "\n",
    "# quadrado = input(\"Digite um número para saber sua raiz quadrada:\")\n",
    "# quadrado = int(quadrado)\n",
    "# print(quadrado**2)\n",
    "\n",
    "# print(\"/n\",\"Desafio 2 - ##############################\",\"/n\")\n",
    "\n",
    "# def recebe_str(x):\n",
    "#     # estilingue = x\n",
    "#     print(\"Você digitou\",x)\n",
    "#     return x\n",
    "# recebe_str(\"Uauuuuu\")\n",
    "\n",
    "# print(\"/n\",\"Desafio 3 - ##############################\",\"/n\")\n",
    "\n",
    "# def obr_opc(a,b,c,d=2,e=3):\n",
    "#     calc1 = a+b+c\n",
    "#     calc2 = d+e\n",
    "#     return calc1, calc2\n",
    "# obr_opc(1,2,3)\n",
    "\n",
    "# print(\"/n\",\"Desafio 4 - ##############################\",\"/n\")\n",
    "\n",
    "# def int_div_2(int_2):\n",
    "#     int_2 = int(int_2)\n",
    "#     # print(int_2/2)\n",
    "#     return int_2/2\n",
    "\n",
    "# def int_mult_4(mult_4):\n",
    "#     int_2 = int(mult_4)\n",
    "#     # print(mult_4 * 4)\n",
    "#     return mult_4 * 4\n",
    "\n",
    "# print(int_div_2(4))\n",
    "# print(int_mult_4(2))  \n",
    "\n",
    "\n",
    "print(\"/n\",\"Desafio 5 - ##############################\",\"/n\")\n",
    "\n",
    "\n",
    "\n",
    "# def convert_str(convertido):\n",
    "#     convertido = float(convertido)\n",
    "#     return convertido\n",
    "# convert_str(\"2.10\")\n",
    "\n",
    "def convert(string):\n",
    "    try:\n",
    "        return float(string)\n",
    "    except ValueError:\n",
    "        print(\"Não é possível converter string em float.\")\n",
    "\n",
    "# c = convert(\"20.2\")\n",
    "# print(c)\n",
    "\n",
    "convert(\"2.99999\")\n"
   ]
  }
 ],
 "metadata": {
  "kernelspec": {
   "display_name": "Python 3",
   "language": "python",
   "name": "python3"
  },
  "language_info": {
   "codemirror_mode": {
    "name": "ipython",
    "version": 3
   },
   "file_extension": ".py",
   "mimetype": "text/x-python",
   "name": "python",
   "nbconvert_exporter": "python",
   "pygments_lexer": "ipython3",
   "version": "3.11.9"
  }
 },
 "nbformat": 4,
 "nbformat_minor": 2
}
