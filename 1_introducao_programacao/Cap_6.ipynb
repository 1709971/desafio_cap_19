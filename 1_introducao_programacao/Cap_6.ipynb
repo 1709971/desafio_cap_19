{
 "cells": [
  {
   "cell_type": "markdown",
   "metadata": {},
   "source": [
    "## Capítulo 6 - Manipulação de strings\n",
    "***\n",
    "- String: \"\"\" stringsssss   \"\"\" / \n",
    "- Índice:\n",
    "- Concatenação: "
   ]
  },
  {
   "cell_type": "code",
   "execution_count": 22,
   "metadata": {},
   "outputs": [
    {
     "name": "stdout",
     "output_type": "stream",
     "text": [
      "Primeiro:  L\n",
      "Último:  o\n",
      "Autor:  Luiz Miguel\n",
      "Autor maiúsculo:  LUIZ MIGUEL\n",
      "Autor minúsculo:  luiz miguel\n",
      "Autor 1 maiusculo:  Luiz miguel\n",
      "Autor:   Miguel, Luiz \n",
      "Autor:  Luiz Miguel\n",
      "Autores:  Luiz Luiz Luiz \n",
      "Autores:  MiguelMiguelMiguel\n"
     ]
    }
   ],
   "source": [
    "autor = \"LuizClaudio\"\n",
    "print(\"Primeiro: \",autor[0])\n",
    "print(\"Último: \",autor[-1])\n",
    "\n",
    "autor1 = \"Luiz \"\n",
    "autor2 = \"Miguel\"\n",
    "\n",
    "autores = autor1 + autor2\n",
    "print(\"Autor: \",autores)\n",
    "print(\"Autor maiúsculo: \",autores.upper())\n",
    "print(\"Autor minúsculo: \",autores.lower())\n",
    "print(\"Autor 1 maiusculo: \",autores.capitalize())\n",
    "print(\"Autor: \", \" {}, {}\".format(autor2, autor1))\n",
    "print(\"Autor: \",autor1 + autor2)\n",
    "print(\"Autores: \",autor1 *3)\n",
    "print(\"Autores: \",autor2 *3)\n",
    "\n"
   ]
  },
  {
   "cell_type": "code",
   "execution_count": 43,
   "metadata": {},
   "outputs": [
    {
     "name": "stdout",
     "output_type": "stream",
     "text": [
      "['luiz', 'claudio']\n",
      "['luiz', 'claudio', 'mariana', 'luiz', 'miguel']\n",
      "luiz\n",
      "l,u,i,z,l,u,i,z,l,u,i,z,l,u,i,z,l,u,i,z,l,u,i,z\n",
      "Luiz Miguel Oliveira\n",
      "Com espaço ->  __senha   \n",
      "Sem espaço -> __senha\n",
      "3\n",
      "---- Olha \n",
      "---- só \n",
      "'que legal'....\n"
     ]
    }
   ],
   "source": [
    "#metodo split\n",
    "\n",
    "nome = \"luiz claudio\"\n",
    "nome1 = \"luiz,claudio,mariana,luiz,miguel\"\n",
    "nome_separado = \"luizluizluizluizluizluiz\"\n",
    "print(nome.split(\" \"))\n",
    "print(nome1.split(\",\"))\n",
    "\n",
    "nome_v = nome1.split(\",\")\n",
    "print(nome_v[0])\n",
    "\n",
    "separado = \",\".join(nome_separado)\n",
    "print(separado)\n",
    "\n",
    "lista = [\"Luiz\",\"Miguel\",\"Oliveira\"]\n",
    "juntar = \" \".join(lista)\n",
    "print(juntar)\n",
    "\n",
    "espacudo = \" __senha   \"\n",
    "print(\"Com espaço ->\",espacudo)\n",
    "espacudo = espacudo.strip()\n",
    "print(\"Sem espaço ->\",espacudo)\n",
    "\n",
    "indice_nome = nome_separado.index(\"z\")\n",
    "print(indice_nome)\n",
    "\n",
    "print(\"---- Olha \\n---- só \\n'que legal'....\")\n"
   ]
  },
  {
   "cell_type": "code",
   "execution_count": 53,
   "metadata": {},
   "outputs": [
    {
     "name": "stdout",
     "output_type": "stream",
     "text": [
      "['luiz', 'Miguel']\n",
      "[0, 1, 2, 3, 4, 5, 6, 7, 8, 9, 10]\n",
      "[0, 1, 2, 3, 4, 5, 6, 7, 8, 9, 10]\n",
      "[0, 1, 2, 3, 4, 5, 6, 7, 8, 9, 10]\n",
      "[0, 1, 2, 3, 4, 5, 6, 7, 8, 9, 10]\n"
     ]
    }
   ],
   "source": [
    "fatiamento = [\"luiz\",\"Miguel\",\"Oliveira\"]\n",
    "fatiamento_numero = [0,1,2,3,4,5,6,7,8,9,10]\n",
    "print(fatiamento[0:2])\n",
    "print(fatiamento_numero[0:11])\n",
    "print(fatiamento_numero[:11])\n",
    "print(fatiamento_numero[0:])\n",
    "print(fatiamento_numero[:])"
   ]
  },
  {
   "cell_type": "markdown",
   "metadata": {},
   "source": [
    "## Desafios\n",
    "***"
   ]
  },
  {
   "cell_type": "code",
   "execution_count": 93,
   "metadata": {},
   "outputs": [
    {
     "name": "stdout",
     "output_type": "stream",
     "text": [
      "C a ...\n",
      "Ontem 10, hoje 10\n",
      "Aldous huxley\n",
      "['Where now', ' Who now', ' When now', '']\n",
      "The fox jumped over the fence.\n",
      "2\n",
      "'Drink up,' said Ford, 'you've got three pints to get through.''I forgot,' Lennie said softly. 'I tried not to forget. Honest to God I did, George.''Yes,' I said, 'I have a reason,' and added very softly, 'My God.'\n",
      "threethreethree\n",
      "threethreethree\n",
      "It was a bright cold day in April, and the clocks were striking thirteen.\n",
      "33\n",
      "It was a bright cold day in April\n"
     ]
    }
   ],
   "source": [
    "# #Desafio 1 ****************\n",
    "# a = \"Camus\"\n",
    "# print(a[0],a[1],\"...\")\n",
    "\n",
    "# #Desafio 2 ****************\n",
    "# b = input(\"Primeira\")\n",
    "# c = input(\"Segunda\")\n",
    "# resposta = \"Ontem {}, hoje {}\".format(b,c)\n",
    "# print(resposta)\n",
    "\n",
    "# #Desafio 3 ****************\n",
    "# frase = \"aldous Huxley\"\n",
    "# print(frase.capitalize())\n",
    "\n",
    "# #Desafio 4 ****************\n",
    "# lista1 = (\"Where now? Who now? When now?\")\n",
    "# print(lista1.split(\"?\"))\n",
    "\n",
    "# #Desafio 5 ****************\n",
    "# lista2 = [\"The\", \"fox\", \"jumped\", \"over\", \"the\", \"fence\", \".\"]\n",
    "# um = \" \".join(lista2)\n",
    "# um = um[0: -2] + \".\"\n",
    "# print(um)\n",
    "\n",
    "# #Desafio 6 ****************\n",
    "# expressao = (\"A screaming comes across the sky.\")\n",
    "# expressao.replace(\"s\",\"$\")\n",
    "\n",
    "# #Desafio 7 ****************\n",
    "# indice  = (\"Hemingway\")\n",
    "# print(indice.index(\"m\"))\n",
    "\n",
    "# #Desafio 8 ****************\n",
    "# quote1 = \"'Drink up,' said Ford, 'you've got three pints to get through.'\"\n",
    "# quote2 = \"'I forgot,' Lennie said softly. 'I tried not to forget. Honest to God I did, George.'\"\n",
    "# quote3 = \"'Yes,' I said, 'I have a reason,' and added very softly, 'My God.'\"\n",
    "# print(quote1+quote2+quote3)\n",
    "\n",
    "# #Desafio 9 ****************\n",
    "# tres = \"three\"\n",
    "# print(tres+tres+tres)\n",
    "# print(tres*3)\n",
    "\n",
    "# #Desafio 10 ****************\n",
    "# fatia = (\"It was a bright cold day in April, and the clocks were striking thirteen.\")\n",
    "# print(fatia)\n",
    "# virgula = fatia.index(\",\")\n",
    "# print(virgula)\n",
    "# antes_virgula = fatia[0:33]\n",
    "# print(antes_virgula)\n",
    "\n",
    "\n"
   ]
  }
 ],
 "metadata": {
  "kernelspec": {
   "display_name": "Python 3",
   "language": "python",
   "name": "python3"
  },
  "language_info": {
   "codemirror_mode": {
    "name": "ipython",
    "version": 3
   },
   "file_extension": ".py",
   "mimetype": "text/x-python",
   "name": "python",
   "nbconvert_exporter": "python",
   "pygments_lexer": "ipython3",
   "version": "3.11.9"
  }
 },
 "nbformat": 4,
 "nbformat_minor": 2
}
