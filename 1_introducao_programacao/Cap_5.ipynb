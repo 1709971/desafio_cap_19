{
 "cells": [
  {
   "cell_type": "markdown",
   "metadata": {},
   "source": [
    "## Caítulo 5\n",
    "***\n",
    "\n",
    "### Contêineres\n",
    "- lista -> [ ] / qualquer tipo de dado / iteráveis / ordem específica / \n",
    "- tuplas -> (,) / iteráveis / imutáveis\n",
    "- dicionários -> {} / mutáveis / Vincular objeto chamado chave/valor (mapeamento) / sem ordem específica / \n",
    "- métodos/funções -> ()"
   ]
  },
  {
   "cell_type": "markdown",
   "metadata": {},
   "source": [
    "## Lista"
   ]
  },
  {
   "cell_type": "code",
   "execution_count": 114,
   "metadata": {},
   "outputs": [
    {
     "name": "stdout",
     "output_type": "stream",
     "text": [
      "HELLO\n",
      "He@@o\n"
     ]
    }
   ],
   "source": [
    "print(\"Hello\".upper())\n",
    "print(\"Hello\".replace(\"l\",\"@\"))"
   ]
  },
  {
   "cell_type": "code",
   "execution_count": 115,
   "metadata": {},
   "outputs": [
    {
     "data": {
      "text/plain": [
       "['Molango', 'abacate', 'banana', 'mamao']"
      ]
     },
     "execution_count": 115,
     "metadata": {},
     "output_type": "execute_result"
    }
   ],
   "source": [
    "fruit = [\"morango\",\"abacate\",\"banana\"]\n",
    "fruit.append(\"mamao\")\n",
    "# fruit.pop()\n",
    "fruit[0] = \"Molango\"\n",
    "fruit\n",
    "\n"
   ]
  },
  {
   "cell_type": "code",
   "execution_count": 116,
   "metadata": {},
   "outputs": [
    {
     "data": {
      "text/plain": [
       "6"
      ]
     },
     "execution_count": 116,
     "metadata": {},
     "output_type": "execute_result"
    }
   ],
   "source": [
    "frutas = [\"morango\",\"abacate\",\"banana\"]\n",
    "cor = [\"amarelo\",\"verde\",\"marrom\"]\n",
    "todos = frutas + cor\n",
    "#verifica se possui\n",
    "\"morango\" in frutas\n",
    "\n",
    "#verifica se não possui\n",
    "\"morango\" not in frutas\n",
    "\n",
    "#conta a quantidade\n",
    "len(todos)\n"
   ]
  },
  {
   "cell_type": "code",
   "execution_count": 117,
   "metadata": {},
   "outputs": [
    {
     "ename": "KeyboardInterrupt",
     "evalue": "Interrupted by user",
     "output_type": "error",
     "traceback": [
      "\u001b[1;31m---------------------------------------------------------------------------\u001b[0m",
      "\u001b[1;31mKeyboardInterrupt\u001b[0m                         Traceback (most recent call last)",
      "Cell \u001b[1;32mIn[117], line 2\u001b[0m\n\u001b[0;32m      1\u001b[0m cores \u001b[38;5;241m=\u001b[39m [\u001b[38;5;124m\"\u001b[39m\u001b[38;5;124mamarelo\u001b[39m\u001b[38;5;124m\"\u001b[39m,\u001b[38;5;124m\"\u001b[39m\u001b[38;5;124mverde\u001b[39m\u001b[38;5;124m\"\u001b[39m,\u001b[38;5;124m\"\u001b[39m\u001b[38;5;124mmarrom\u001b[39m\u001b[38;5;124m\"\u001b[39m]\n\u001b[1;32m----> 2\u001b[0m guess \u001b[38;5;241m=\u001b[39m  \u001b[38;5;28;43minput\u001b[39;49m\u001b[43m(\u001b[49m\u001b[38;5;124;43m\"\u001b[39;49m\u001b[38;5;124;43mGuess a color:\u001b[39;49m\u001b[38;5;124;43m\"\u001b[39;49m\u001b[43m)\u001b[49m\n\u001b[0;32m      3\u001b[0m \u001b[38;5;28;01mif\u001b[39;00m guess \u001b[38;5;129;01min\u001b[39;00m cores:\n\u001b[0;32m      4\u001b[0m     \u001b[38;5;28mprint\u001b[39m(\u001b[38;5;124m\"\u001b[39m\u001b[38;5;124mAcertou mizerave\u001b[39m\u001b[38;5;124m\"\u001b[39m)\n",
      "File \u001b[1;32m~\\AppData\\Local\\Packages\\PythonSoftwareFoundation.Python.3.11_qbz5n2kfra8p0\\LocalCache\\local-packages\\Python311\\site-packages\\ipykernel\\kernelbase.py:1282\u001b[0m, in \u001b[0;36mKernel.raw_input\u001b[1;34m(self, prompt)\u001b[0m\n\u001b[0;32m   1280\u001b[0m     msg \u001b[38;5;241m=\u001b[39m \u001b[38;5;124m\"\u001b[39m\u001b[38;5;124mraw_input was called, but this frontend does not support input requests.\u001b[39m\u001b[38;5;124m\"\u001b[39m\n\u001b[0;32m   1281\u001b[0m     \u001b[38;5;28;01mraise\u001b[39;00m StdinNotImplementedError(msg)\n\u001b[1;32m-> 1282\u001b[0m \u001b[38;5;28;01mreturn\u001b[39;00m \u001b[38;5;28;43mself\u001b[39;49m\u001b[38;5;241;43m.\u001b[39;49m\u001b[43m_input_request\u001b[49m\u001b[43m(\u001b[49m\n\u001b[0;32m   1283\u001b[0m \u001b[43m    \u001b[49m\u001b[38;5;28;43mstr\u001b[39;49m\u001b[43m(\u001b[49m\u001b[43mprompt\u001b[49m\u001b[43m)\u001b[49m\u001b[43m,\u001b[49m\n\u001b[0;32m   1284\u001b[0m \u001b[43m    \u001b[49m\u001b[38;5;28;43mself\u001b[39;49m\u001b[38;5;241;43m.\u001b[39;49m\u001b[43m_parent_ident\u001b[49m\u001b[43m[\u001b[49m\u001b[38;5;124;43m\"\u001b[39;49m\u001b[38;5;124;43mshell\u001b[39;49m\u001b[38;5;124;43m\"\u001b[39;49m\u001b[43m]\u001b[49m\u001b[43m,\u001b[49m\n\u001b[0;32m   1285\u001b[0m \u001b[43m    \u001b[49m\u001b[38;5;28;43mself\u001b[39;49m\u001b[38;5;241;43m.\u001b[39;49m\u001b[43mget_parent\u001b[49m\u001b[43m(\u001b[49m\u001b[38;5;124;43m\"\u001b[39;49m\u001b[38;5;124;43mshell\u001b[39;49m\u001b[38;5;124;43m\"\u001b[39;49m\u001b[43m)\u001b[49m\u001b[43m,\u001b[49m\n\u001b[0;32m   1286\u001b[0m \u001b[43m    \u001b[49m\u001b[43mpassword\u001b[49m\u001b[38;5;241;43m=\u001b[39;49m\u001b[38;5;28;43;01mFalse\u001b[39;49;00m\u001b[43m,\u001b[49m\n\u001b[0;32m   1287\u001b[0m \u001b[43m\u001b[49m\u001b[43m)\u001b[49m\n",
      "File \u001b[1;32m~\\AppData\\Local\\Packages\\PythonSoftwareFoundation.Python.3.11_qbz5n2kfra8p0\\LocalCache\\local-packages\\Python311\\site-packages\\ipykernel\\kernelbase.py:1325\u001b[0m, in \u001b[0;36mKernel._input_request\u001b[1;34m(self, prompt, ident, parent, password)\u001b[0m\n\u001b[0;32m   1322\u001b[0m \u001b[38;5;28;01mexcept\u001b[39;00m \u001b[38;5;167;01mKeyboardInterrupt\u001b[39;00m:\n\u001b[0;32m   1323\u001b[0m     \u001b[38;5;66;03m# re-raise KeyboardInterrupt, to truncate traceback\u001b[39;00m\n\u001b[0;32m   1324\u001b[0m     msg \u001b[38;5;241m=\u001b[39m \u001b[38;5;124m\"\u001b[39m\u001b[38;5;124mInterrupted by user\u001b[39m\u001b[38;5;124m\"\u001b[39m\n\u001b[1;32m-> 1325\u001b[0m     \u001b[38;5;28;01mraise\u001b[39;00m \u001b[38;5;167;01mKeyboardInterrupt\u001b[39;00m(msg) \u001b[38;5;28;01mfrom\u001b[39;00m \u001b[38;5;28;01mNone\u001b[39;00m\n\u001b[0;32m   1326\u001b[0m \u001b[38;5;28;01mexcept\u001b[39;00m \u001b[38;5;167;01mException\u001b[39;00m:\n\u001b[0;32m   1327\u001b[0m     \u001b[38;5;28mself\u001b[39m\u001b[38;5;241m.\u001b[39mlog\u001b[38;5;241m.\u001b[39mwarning(\u001b[38;5;124m\"\u001b[39m\u001b[38;5;124mInvalid Message:\u001b[39m\u001b[38;5;124m\"\u001b[39m, exc_info\u001b[38;5;241m=\u001b[39m\u001b[38;5;28;01mTrue\u001b[39;00m)\n",
      "\u001b[1;31mKeyboardInterrupt\u001b[0m: Interrupted by user"
     ]
    }
   ],
   "source": [
    "cores = [\"amarelo\",\"verde\",\"marrom\"]\n",
    "guess =  input(\"Guess a color:\")\n",
    "if guess in cores:\n",
    "    print(\"Acertou mizerave\")\n",
    "else:\n",
    "    print(\"Errouuuu\")   \n"
   ]
  },
  {
   "cell_type": "markdown",
   "metadata": {},
   "source": [
    "## Tuplas"
   ]
  },
  {
   "cell_type": "code",
   "execution_count": 41,
   "metadata": {},
   "outputs": [
    {
     "name": "stdout",
     "output_type": "stream",
     "text": [
      "Primeira forma ()\n",
      "Segunda forma ()\n"
     ]
    },
    {
     "data": {
      "text/plain": [
       "'setembo'"
      ]
     },
     "execution_count": 41,
     "metadata": {},
     "output_type": "execute_result"
    }
   ],
   "source": [
    "minha_tupla = tuple()\n",
    "print(\"Primeira forma\",minha_tupla)\n",
    "\n",
    "minha_tupla = ()\n",
    "print(\"Segunda forma\",minha_tupla)\n",
    "\n",
    "rndm = (\"Luiz Miguel\",\"setembo\",\"true\")\n",
    "rndm[1]\n"
   ]
  },
  {
   "cell_type": "code",
   "execution_count": 45,
   "metadata": {},
   "outputs": [
    {
     "data": {
      "text/plain": [
       "True"
      ]
     },
     "execution_count": 45,
     "metadata": {},
     "output_type": "execute_result"
    }
   ],
   "source": [
    "procurar_ind = (\"casa\",\"amarela\",\"rua 2\")\n",
    "procurar_ind\n",
    "\n",
    "\"casa\" in procurar_ind"
   ]
  },
  {
   "cell_type": "markdown",
   "metadata": {},
   "source": [
    "## Dicionários"
   ]
  },
  {
   "cell_type": "code",
   "execution_count": 65,
   "metadata": {},
   "outputs": [
    {
     "data": {
      "text/plain": [
       "{'Dell': 'G15'}"
      ]
     },
     "execution_count": 65,
     "metadata": {},
     "output_type": "execute_result"
    }
   ],
   "source": [
    "dicionario = dict()\n",
    "dicionario\n",
    "\n",
    "dicionario = {\"apple\":\"iphone\",\"Dell\":\"G15\"}\n",
    "dicionario[\"apple\"]\n",
    "\"apple\" in dicionario\n",
    "del dicionario[\"apple\"]\n",
    "dicionario"
   ]
  },
  {
   "cell_type": "code",
   "execution_count": 68,
   "metadata": {},
   "outputs": [
    {
     "name": "stdout",
     "output_type": "stream",
     "text": [
      "Not found.\n"
     ]
    }
   ],
   "source": [
    "# Thanks so much for reading my book. Feel free to contact me at cory[at]theselftaughtprogrammer.io.\n",
    "\n",
    "rhymes = {\"1\": \"fun\",\n",
    "          \"2\": \"blue\",\n",
    "          \"3\": \"me\",\n",
    "          \"4\": \"floor\",\n",
    "          \"5\": \"live\"\n",
    "          }\n",
    "\n",
    "\n",
    "n = input(\"Type a number:\")\n",
    "if n in rhymes:\n",
    "    rhyme = rhymes[n]\n",
    "    print(rhyme)\n",
    "else:\n",
    "    print(\"Not found.\")"
   ]
  },
  {
   "cell_type": "code",
   "execution_count": 79,
   "metadata": {},
   "outputs": [
    {
     "name": "stdout",
     "output_type": "stream",
     "text": [
      "[['Kanye West', 'Jay Z', 'Eminem', 'Nas', 'Snoop Dog'], ['Bob Dylan', 'The Beatles', 'Led Zeppelin'], ['Zeds Dead', 'Tiesto']]\n",
      "Rap: ['Kanye West', 'Jay Z', 'Eminem', 'Nas', 'Snoop Dog']\n",
      "['Bob Dylan', 'The Beatles', 'Led Zeppelin']\n",
      "['Zeds Dead', 'Tiesto']\n"
     ]
    }
   ],
   "source": [
    "# Thanks so much for reading my book. Feel free to contact me at cory[at]theselftaughtprogrammer.io.\n",
    "\n",
    "\n",
    "lists = []\n",
    "rap = [\"Kanye West\",\n",
    "       \"Jay Z\",\n",
    "       \"Eminem\",\n",
    "       \"Nas\"]\n",
    "rap.append(\"Snoop Dog\")\n",
    "\n",
    "\n",
    "rock = [\"Bob Dylan\",\n",
    "        \"The Beatles\",\n",
    "        \"Led Zeppelin\"]\n",
    "\n",
    "\n",
    "djs = [\"Zeds Dead\",\n",
    "       \"Tiesto\"]\n",
    "\n",
    "\n",
    "lists.append(rap)\n",
    "lists.append(rock)\n",
    "lists.append(djs)\n",
    "\n",
    "print(lists)\n",
    "rap = lists[0]\n",
    "print(\"Rap:\",rap)\n",
    "print(lists[1])\n",
    "print(lists[2])"
   ]
  },
  {
   "cell_type": "code",
   "execution_count": 82,
   "metadata": {},
   "outputs": [
    {
     "name": "stdout",
     "output_type": "stream",
     "text": [
      "[(34.2222, 35.222), (34.3333, 35.8888)]\n"
     ]
    },
    {
     "data": {
      "text/plain": [
       "(['luiz', 'claudio'], ['luiz', 'miguel'])"
      ]
     },
     "execution_count": 82,
     "metadata": {},
     "output_type": "execute_result"
    }
   ],
   "source": [
    "locations = []\n",
    "\n",
    "la = (34.2222,35.222)\n",
    "chigago = (34.3333,35.8888)\n",
    "\n",
    "locations.append(la)\n",
    "locations.append(chigago)\n",
    "\n",
    "print(locations)\n",
    "\n",
    "oito = [\"luiz\",\"claudio\"]\n",
    "nove = [\"luiz\",\"miguel\"]\n",
    "nos = (oito, nove)\n",
    "nos\n",
    "\n"
   ]
  },
  {
   "cell_type": "code",
   "execution_count": 84,
   "metadata": {},
   "outputs": [
    {
     "data": {
      "text/plain": [
       "{'location': (40.7128, 74.0059),\n",
       " 'celebs': ['W. Allen', 'Jay Z', 'K. Bacon'],\n",
       " 'facts': {'state': 'NY', 'country': 'America'}}"
      ]
     },
     "execution_count": 84,
     "metadata": {},
     "output_type": "execute_result"
    }
   ],
   "source": [
    "# Thanks so much for reading my book. Feel free to contact me at cory[at]theselftaughtprogrammer.io.\n",
    "\n",
    "ny = {\"location\":\n",
    "      (40.7128,\n",
    "       74.0059),\n",
    "\n",
    "      \"celebs\":\n",
    "      [\"W. Allen\",\n",
    "       \"Jay Z\",\n",
    "       \"K. Bacon\"],\n",
    "\n",
    "      \"facts\":\n",
    "      {\"state\":\n",
    "       \"NY\",\n",
    "       \"country\":\n",
    "       \"America\"}\n",
    "}\n",
    "ny"
   ]
  },
  {
   "cell_type": "markdown",
   "metadata": {},
   "source": [
    "## Desafios\n",
    "***"
   ]
  },
  {
   "cell_type": "code",
   "execution_count": 113,
   "metadata": {},
   "outputs": [
    {
     "name": "stdout",
     "output_type": "stream",
     "text": [
      "1\n",
      "2\n",
      "3\n",
      "4\n",
      "5\n",
      "0.0010006427764892578\n"
     ]
    }
   ],
   "source": [
    "# print(\"\\n\",\"Desafio 1 - ################\",\"\\n\")\n",
    "\n",
    "# musicos = [\"Jorge e Mateus\",\"Eminem\",\"Amado Batista\"]\n",
    "# musicos\n",
    "\n",
    "# print(\"\\n\",\"Desafio 2 - ################\",\"\\n\")\n",
    "\n",
    "# musicos = [(20.11111,20.4444),(30.5555,30.7777)]\n",
    "# musicos\n",
    "\n",
    "# print(\"\\n\",\"Desafio 3 - ################\",\"\\n\")\n",
    "\n",
    "# pessoa = {\"Peso\":100,\"altura\":1.8, \"Cor\":\"azul\", \"autor\":\"Cory Altholff\"}\n",
    "# # pessoa[\"Peso\"]\n",
    "\n",
    "# altura = input(\"Altura\")\n",
    "# cor_favorita = input(\"Cor favorita\")\n",
    "# autor_favorito = input(\"Autor favorito\")\n",
    "\n",
    "# pessoa = {\"Peso\":altura,\"altura\":altura, \"Cor\":cor_favorita, \"autor\":autor_favorito}\n",
    "# pessoa\n",
    "\n",
    "\n",
    "# musicos_favoritos = {\"Jorge\":(\"Aeee\",\"capaz\"),\"Mateus\":(\"Uhuuu\",\"oieeee\")}\n",
    "# musicos_favoritos\n",
    "\n",
    "\n",
    "# minha_lista = [1,8,9,188, 2, 2, 3, 4, 44,4,4,4,4,4,4]\n",
    "# conjunto = set(minha_lista)\n",
    "# print(conjunto)  # Saída: {1, 2, 3, 4}\n",
    "\n",
    "# conjunto1 = {1, 2, 3}\n",
    "# conjunto2 = {2, 3, 4}\n",
    "# uniao = conjunto1.union(conjunto2)  # {1, 2, 3, 4}\n",
    "# intersecao = conjunto1.intersection(conjunto2)  # {2, 3}\n",
    "# diferenca = conjunto1 - conjunto2  # {1}\n",
    "\n",
    "# print(uniao)\n",
    "# print(intersecao)\n",
    "# print(diferenca)\n",
    "\n",
    "# me = {\n",
    "#     \"height\": \"6\",\n",
    "#     \"fav_color\": \"red\",\n",
    "#     \"fav_author\": \"Orwell\"\n",
    "# }\n",
    "\n",
    "# answer = input(\"Type height, fav_color or fav_author\")\n",
    "# if answer in me:\n",
    "#     result = me[answer]\n",
    "#     print(result)\n",
    "\n",
    "# else:\n",
    "#         print(\"Nada encontrado\")\n",
    "\n",
    "\n",
    "\n",
    "\n",
    "\n",
    "\n",
    "\n",
    "\n"
   ]
  },
  {
   "cell_type": "code",
   "execution_count": null,
   "metadata": {},
   "outputs": [],
   "source": [
    "print(\"Não é pra executar\")"
   ]
  },
  {
   "cell_type": "code",
   "execution_count": 136,
   "metadata": {},
   "outputs": [
    {
     "name": "stdout",
     "output_type": "stream",
     "text": [
      "1\n",
      "2\n",
      "3\n",
      "4\n",
      "5\n",
      "0.0009982585906982422\n"
     ]
    }
   ],
   "source": [
    "import time\n",
    "\n",
    "start = time.time()\n",
    "\n",
    "for i in range(1,6):\n",
    "    print(i)\n",
    "    end = time.time()\n",
    "print(end-start)"
   ]
  }
 ],
 "metadata": {
  "kernelspec": {
   "display_name": "Python 3",
   "language": "python",
   "name": "python3"
  },
  "language_info": {
   "codemirror_mode": {
    "name": "ipython",
    "version": 3
   },
   "file_extension": ".py",
   "mimetype": "text/x-python",
   "name": "python",
   "nbconvert_exporter": "python",
   "pygments_lexer": "ipython3",
   "version": "3.11.9"
  }
 },
 "nbformat": 4,
 "nbformat_minor": 2
}
