{
 "cells": [
  {
   "cell_type": "markdown",
   "metadata": {},
   "source": [
    "## Capítulo 9\n",
    "***\n",
    "### Arquivos\n",
    "- texto: \n",
    "- csv: import csv\n"
   ]
  },
  {
   "cell_type": "code",
   "execution_count": 1,
   "metadata": {},
   "outputs": [
    {
     "data": {
      "text/plain": [
       "'Users\\\\bob\\\\st.txt'"
      ]
     },
     "execution_count": 1,
     "metadata": {},
     "output_type": "execute_result"
    }
   ],
   "source": [
    "\n",
    "import os\n",
    "os.path.join(\"Users\",\n",
    "             \"bob\",\n",
    "             \"st.txt\")"
   ]
  },
  {
   "cell_type": "code",
   "execution_count": 15,
   "metadata": {},
   "outputs": [],
   "source": [
    "# st é a variável de manipulação do arquivo\n",
    "\n",
    "st = open(\"st.txt\", \"w\")\n",
    "st.write(\"hi from Python! And modification\")\n",
    "st.close()\n",
    "\n",
    "st = open(\"meu_arquivo.txt\", \"w\")\n",
    "st.write(\"Esse arquivo criei sozinho\")\n",
    "st.close()"
   ]
  },
  {
   "cell_type": "code",
   "execution_count": 17,
   "metadata": {},
   "outputs": [
    {
     "name": "stdout",
     "output_type": "stream",
     "text": [
      "hi from Python! And modification\n",
      "['hi from Python! And modification']\n"
     ]
    }
   ],
   "source": [
    "# # with open(\"st.txt\",\"w\") as f:\n",
    "# #     f.write(\"Sou eu de novo, agora modificando e exibindo o arquivo\")\n",
    "\n",
    "# with open(\"st.txt\",\"r\") as f:\n",
    "#     print(f.read())\n",
    "\n",
    "# my_list = list()\n",
    "# with open(\"st.txt\",\"r\") as f:\n",
    "#     my_list.append(f.read())\n",
    "#     print(my_list)\n",
    "\n"
   ]
  },
  {
   "cell_type": "code",
   "execution_count": 14,
   "metadata": {},
   "outputs": [
    {
     "name": "stdout",
     "output_type": "stream",
     "text": [
      "one,two,three,Luiz,Miguel\n",
      "four,five,six\n"
     ]
    }
   ],
   "source": [
    "# Thanks so much for reading my book. Feel free to contact me at cory[at]theselftaughtprogrammer.io.\n",
    "\n",
    "import csv\n",
    "\n",
    "with open(\"st.csv\", \"w\", newline='') as f:\n",
    "    write = csv.writer(f, delimiter=\",\")\n",
    "    write.writerow([\"one\",\n",
    "                    \"two\",\n",
    "                    \"three\",\"Luiz\",\"Miguel\"])\n",
    "    write.writerow([\"four\",\n",
    "                    \"five\",\n",
    "                    \"six\"])\n",
    "    \n",
    "with open(\"st.csv\", \"r\") as f:\n",
    "    lendo = csv.reader(f, delimiter=\",\")\n",
    "    for row in lendo:\n",
    "        print(\",\".join(row))\n"
   ]
  },
  {
   "cell_type": "markdown",
   "metadata": {},
   "source": [
    "## Desafios\n",
    "***"
   ]
  },
  {
   "cell_type": "code",
   "execution_count": 26,
   "metadata": {},
   "outputs": [
    {
     "name": "stdout",
     "output_type": "stream",
     "text": [
      "Esse arquivo criei sozinho\n"
     ]
    }
   ],
   "source": [
    "##Esse deu errado\n",
    "# with open(\"C:\\Users\\luizc\\Documents\\BACKUP_NOTEBOOK_18-08-24\\ACADEMICO\\LIVROS.txt\",\"r\") as f:\n",
    "#     print(f.read())\n",
    "\n",
    "##Esse deu certo\n",
    "# with open(\"C:/Users/luizc/Documents/BACKUP_NOTEBOOK_18-08-24/ACADEMICO/LIVROS/meu_arquivo.txt\", \"r\") as f:\n",
    "#     print(f.read())\n",
    "\n",
    "with open(\"C:/Users/luizc/Documents/DIPLOMA CFS 2021/meu_arquivo.txt\", \"r\") as f:\n",
    "    print(f.read())\n",
    "\n"
   ]
  },
  {
   "cell_type": "code",
   "execution_count": 32,
   "metadata": {},
   "outputs": [],
   "source": [
    "resposta = input(\"Qual sua idade?\")\n",
    "\n",
    "with open(\"Resposta_desafio.txt\",\"w\") as f:\n",
    "     f.write(resposta)"
   ]
  },
  {
   "cell_type": "code",
   "execution_count": 3,
   "metadata": {},
   "outputs": [],
   "source": [
    "with open(\"desafio.csv\", \"w\", newline='') as f:\n",
    "    write = csv.writer(f, delimiter=\",\")\n",
    "\n",
    "    write.writerow([\"Top Gun20\", \"Risky Business\", \"Minority Report\"])\n",
    "    write.writerow([\"Titanic\", \"The Revenant\", \"Inception\"])\n",
    "    write.writerow([\"Training Day\", \"Man on Fire\", \"Flight\"])\n",
    "    \n"
   ]
  },
  {
   "cell_type": "code",
   "execution_count": 4,
   "metadata": {},
   "outputs": [],
   "source": [
    "import csv\n",
    "\n",
    "movies = [[\"Top Gun10\", \"Risky Business\", \"Minority Report\"], [\"Titanic\", \"The Revenant\", \"Inception\"], [\"Training Day\", \"Man on Fire\", \"Flight\"]]\n",
    "\n",
    "with open(\"movies.csv\", \"w\") as csvfile:\n",
    "    spamwriter = csv.writer(csvfile, delimiter=\",\")\n",
    "\n",
    "    for movie_list in movies:\n",
    "        spamwriter.writerow(movie_list)\n",
    "\n",
    "# print(movies[0])"
   ]
  }
 ],
 "metadata": {
  "kernelspec": {
   "display_name": "Python 3",
   "language": "python",
   "name": "python3"
  },
  "language_info": {
   "codemirror_mode": {
    "name": "ipython",
    "version": 3
   },
   "file_extension": ".py",
   "mimetype": "text/x-python",
   "name": "python",
   "nbconvert_exporter": "python",
   "pygments_lexer": "ipython3",
   "version": "3.11.9"
  }
 },
 "nbformat": 4,
 "nbformat_minor": 2
}
