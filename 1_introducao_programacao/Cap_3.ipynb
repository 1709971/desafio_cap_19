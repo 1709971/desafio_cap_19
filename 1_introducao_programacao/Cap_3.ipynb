{
 "cells": [
  {
   "cell_type": "markdown",
   "metadata": {},
   "source": [
    "## Iniciaremos os exemplos do Cap 3\n",
    "***"
   ]
  },
  {
   "cell_type": "code",
   "execution_count": 6,
   "metadata": {},
   "outputs": [],
   "source": [
    "# for i in range(100):\n",
    "#     print(\"Hello World\")\n",
    "\n",
    "# import math\n",
    "# i = 4\n",
    "# w = 10\n",
    "\n",
    "# d = math.sqrt(i**2 + w**2)\n",
    "# print(\"O resultado é: \",d)\n",
    "# print(\"O resultado era: \",d)\n",
    "\n",
    "# print(\"\"\"\n",
    "#       testão\n",
    "#       testão\n",
    "#       testão\n",
    "#       testão\n",
    "#       \"\"\")\n",
    "\n",
    "# if i == 4:\n",
    "#     print(i)\n",
    "# else:\n",
    "#     print(\"Não é 4\")    "
   ]
  },
  {
   "cell_type": "code",
   "execution_count": 11,
   "metadata": {},
   "outputs": [
    {
     "data": {
      "text/plain": [
       "10"
      ]
     },
     "execution_count": 11,
     "metadata": {},
     "output_type": "execute_result"
    }
   ],
   "source": [
    "x = 10\n",
    "x += 1\n",
    "x -= 1\n",
    "x"
   ]
  },
  {
   "cell_type": "markdown",
   "metadata": {},
   "source": [
    "## Tipos de erros\n",
    "\n",
    "- sintaxe\n",
    "- exceções: Ex divisão por 0\n",
    "\n",
    "***"
   ]
  },
  {
   "cell_type": "markdown",
   "metadata": {},
   "source": [
    "## Operadores aritméticos\n",
    "\n",
    "***"
   ]
  },
  {
   "cell_type": "code",
   "execution_count": 4,
   "metadata": {},
   "outputs": [
    {
     "name": "stdout",
     "output_type": "stream",
     "text": [
      "Par\n"
     ]
    }
   ],
   "source": [
    "if 332 % 2 == 0:\n",
    "    print(\"Par\")\n",
    "else:\n",
    "    print(\"Ímpar\")"
   ]
  },
  {
   "cell_type": "code",
   "execution_count": 24,
   "metadata": {},
   "outputs": [
    {
     "name": "stdout",
     "output_type": "stream",
     "text": [
      "False\n",
      "True\n",
      "False\n"
     ]
    }
   ],
   "source": [
    "a = 1 == 2 and 2 == 3\n",
    "b = 1 == 1 and 2 == 2\n",
    "c = not 1 == 1\n",
    "print(a)\n",
    "print(b)\n",
    "print(c)"
   ]
  },
  {
   "cell_type": "markdown",
   "metadata": {},
   "source": [
    "## Instruções condicionais\n",
    "***"
   ]
  },
  {
   "cell_type": "code",
   "execution_count": 25,
   "metadata": {},
   "outputs": [
    {
     "name": "stdout",
     "output_type": "stream",
     "text": [
      "Homem aranha\n",
      "Não é.........\n",
      "muita grana\n",
      "Aqui é 10\n",
      "Hello, Thailand!\n"
     ]
    }
   ],
   "source": [
    "homem = \"aranha\"\n",
    "if homem == \"aranha\":\n",
    "    print(\"Homem aranha\")\n",
    "else:\n",
    "    print(\"Não é\")\n",
    "\n",
    "mulher = \"gato\"\n",
    "if mulher == \"aranha\":\n",
    "    print(\"Homem aranha\")\n",
    "print(\"Não é.........\")\n",
    "\n",
    "dim = 10\n",
    "dimdim = 100\n",
    "if dim == 10:\n",
    "    if dimdim == 100:\n",
    "        print(\"muita grana\")\n",
    "print(\"Aqui é 10\")\n",
    "\n",
    "# Thanks so much for reading my book. Feel free to contact me at cory[at]theselftaughtprogrammer.io.\n",
    "\n",
    "home = \"Thailand\"\n",
    "if home == \"Japan\":\n",
    "    print(\"Hello, Japan!\")\n",
    "elif home == \"Thailand\":\n",
    "    print(\"Hello, Thailand!\")\n",
    "elif home == \"India\":\n",
    "    print(\"Hello, India!\")\n",
    "elif home == \"China\":\n",
    "    print(\"Hello, China!\")\n",
    "else:\n",
    "    print(\"Hello, World!\")"
   ]
  },
  {
   "cell_type": "markdown",
   "metadata": {},
   "source": [
    "## Instruções\n",
    "***\n",
    "\n",
    "- simples: unica linha\n",
    "- composta: varias linhas"
   ]
  },
  {
   "cell_type": "code",
   "execution_count": 26,
   "metadata": {},
   "outputs": [
    {
     "name": "stdout",
     "output_type": "stream",
     "text": [
      "100 vezes\n",
      "100 vezes\n",
      "100 vezes\n",
      "100 vezes\n",
      "100 vezes\n",
      "100 vezes\n",
      "100 vezes\n",
      "100 vezes\n",
      "100 vezes\n",
      "100 vezes\n",
      "100 vezes\n",
      "100 vezes\n",
      "100 vezes\n",
      "100 vezes\n",
      "100 vezes\n",
      "100 vezes\n",
      "100 vezes\n",
      "100 vezes\n",
      "100 vezes\n",
      "100 vezes\n",
      "100 vezes\n",
      "100 vezes\n",
      "100 vezes\n",
      "100 vezes\n",
      "100 vezes\n",
      "100 vezes\n",
      "100 vezes\n",
      "100 vezes\n",
      "100 vezes\n",
      "100 vezes\n",
      "100 vezes\n",
      "100 vezes\n",
      "100 vezes\n",
      "100 vezes\n",
      "100 vezes\n",
      "100 vezes\n",
      "100 vezes\n",
      "100 vezes\n",
      "100 vezes\n",
      "100 vezes\n",
      "100 vezes\n",
      "100 vezes\n",
      "100 vezes\n",
      "100 vezes\n",
      "100 vezes\n",
      "100 vezes\n",
      "100 vezes\n",
      "100 vezes\n",
      "100 vezes\n",
      "100 vezes\n",
      "100 vezes\n",
      "100 vezes\n",
      "100 vezes\n",
      "100 vezes\n",
      "100 vezes\n",
      "100 vezes\n",
      "100 vezes\n",
      "100 vezes\n",
      "100 vezes\n",
      "100 vezes\n",
      "100 vezes\n",
      "100 vezes\n",
      "100 vezes\n",
      "100 vezes\n",
      "100 vezes\n",
      "100 vezes\n",
      "100 vezes\n",
      "100 vezes\n",
      "100 vezes\n",
      "100 vezes\n",
      "100 vezes\n",
      "100 vezes\n",
      "100 vezes\n",
      "100 vezes\n",
      "100 vezes\n",
      "100 vezes\n",
      "100 vezes\n",
      "100 vezes\n",
      "100 vezes\n",
      "100 vezes\n",
      "100 vezes\n",
      "100 vezes\n",
      "100 vezes\n",
      "100 vezes\n",
      "100 vezes\n",
      "100 vezes\n",
      "100 vezes\n",
      "100 vezes\n",
      "100 vezes\n",
      "100 vezes\n",
      "100 vezes\n",
      "100 vezes\n",
      "100 vezes\n",
      "100 vezes\n",
      "100 vezes\n",
      "100 vezes\n",
      "100 vezes\n",
      "100 vezes\n",
      "100 vezes\n",
      "100 vezes\n"
     ]
    }
   ],
   "source": [
    "for i in range(100):\n",
    "    print(\"100 vezes\")"
   ]
  },
  {
   "cell_type": "markdown",
   "metadata": {},
   "source": [
    "# Desafios Cap 3\n",
    "***"
   ]
  },
  {
   "cell_type": "code",
   "execution_count": 65,
   "metadata": {},
   "outputs": [
    {
     "name": "stdout",
     "output_type": "stream",
     "text": [
      "\n",
      " Desafio 1 -------------------------------------- \n",
      "\n",
      "Casa\n",
      "Jardim\n",
      "Escritório\n",
      "\n",
      " Desafio 2 -------------------------------------- \n",
      "\n",
      "Não é maior que 10\n",
      "\n",
      " Desafio 3 -------------------------------------- \n",
      "\n",
      "Maior que 25\n",
      "\n",
      " Desafio 4 -------------------------------------- \n",
      "\n",
      "Resto 0\n",
      "\n",
      " Desafio 5 -------------------------------------- \n",
      "\n",
      "Quociente 1\n",
      "\n",
      " Desafio 6 -------------------------------------- \n",
      "\n",
      "You get to retire soon.\n"
     ]
    }
   ],
   "source": [
    "print(\"\\n\",\"Desafio 1 --------------------------------------\",\"\\n\")\n",
    "\n",
    "print(\"Casa\")\n",
    "print(\"Jardim\")\n",
    "print(\"Escritório\")\n",
    "\n",
    "print(\"\\n\",\"Desafio 2 --------------------------------------\",\"\\n\")\n",
    "\n",
    "x = 10\n",
    "if x > 10:\n",
    "    print(\"É maior que 10\")\n",
    "else:\n",
    "    print(\"Não é maior que 10\")\n",
    "\n",
    "print(\"\\n\",\"Desafio 3 --------------------------------------\",\"\\n\")\n",
    "\n",
    "a = 26\n",
    "if a <= 10:\n",
    "    print(\"A é menor ou igual a 10\")\n",
    "elif a > 10 and a <= 25:\n",
    "    print(\"A é maior que 10 e menor que 25 \")\n",
    "else:\n",
    "    print(\"Maior que 25\")\n",
    "\n",
    "print(\"\\n\",\"Desafio 4 --------------------------------------\",\"\\n\")\n",
    "\n",
    "\n",
    "d = 10\n",
    "e = 5\n",
    "exibe_resto = (d % e)\n",
    "print(\"Resto\",exibe_resto)\n",
    "\n",
    "print(\"\\n\",\"Desafio 5 --------------------------------------\",\"\\n\")\n",
    "\n",
    "f = 13\n",
    "g = 8\n",
    "quociente = (f // g)\n",
    "print(\"Quociente\",quociente)\n",
    "\n",
    "print(\"\\n\",\"Desafio 6 --------------------------------------\",\"\\n\")\n",
    "\n",
    "age = 64\n",
    "retirement = age - 65\n",
    "\n",
    "if retirement < 10:\n",
    "    print(\"You get to retire soon.\")\n",
    "else:\n",
    "    print(\"You have a long time until you can retire!\")\n"
   ]
  }
 ],
 "metadata": {
  "kernelspec": {
   "display_name": "Python 3",
   "language": "python",
   "name": "python3"
  },
  "language_info": {
   "codemirror_mode": {
    "name": "ipython",
    "version": 3
   },
   "file_extension": ".py",
   "mimetype": "text/x-python",
   "name": "python",
   "nbconvert_exporter": "python",
   "pygments_lexer": "ipython3",
   "version": "3.11.9"
  }
 },
 "nbformat": 4,
 "nbformat_minor": 2
}
