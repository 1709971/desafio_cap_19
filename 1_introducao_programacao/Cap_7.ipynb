{
 "cells": [
  {
   "cell_type": "markdown",
   "metadata": {},
   "source": [
    "## Capítulo 7\n",
    "***\n",
    "Loops\n",
    "- percorrer iterável\n",
    "- Range: \n",
    "- Loop while: \n",
    "- instrução continue:"
   ]
  },
  {
   "cell_type": "code",
   "execution_count": 2,
   "metadata": {},
   "outputs": [
    {
     "name": "stdout",
     "output_type": "stream",
     "text": [
      "T\n",
      "e\n",
      "d\n",
      " \n",
      "m\n",
      "y\n"
     ]
    }
   ],
   "source": [
    "name = \"Ted my\"\n",
    "for caractere in name:\n",
    "    print(caractere)"
   ]
  },
  {
   "cell_type": "code",
   "execution_count": 3,
   "metadata": {},
   "outputs": [
    {
     "name": "stdout",
     "output_type": "stream",
     "text": [
      "GOT\n",
      "Narcos\n",
      "Vice\n"
     ]
    }
   ],
   "source": [
    "\n",
    "# http://tinyurl.com/gmptmlk\n",
    "\n",
    "\n",
    "shows = [\"GOT\",\n",
    "         \"Narcos\",\n",
    "         \"Vice\"]\n",
    "for show in shows:\n",
    "    print(show)"
   ]
  },
  {
   "cell_type": "code",
   "execution_count": 4,
   "metadata": {},
   "outputs": [
    {
     "name": "stdout",
     "output_type": "stream",
     "text": [
      "G. Bluth II\n",
      "Barney\n",
      "Dennis\n"
     ]
    }
   ],
   "source": [
    "\n",
    "# http://tinyurl.com/gqkt74l\n",
    "\n",
    "\n",
    "people = {\"G. Bluth II\":\n",
    "          \"A. Development\",\n",
    "          \"Barney\":\n",
    "          \"HIMYM\",\n",
    "          \"Dennis\":\n",
    "          \"Always Sunny\"\n",
    "          }\n",
    "\n",
    "\n",
    "for character in people:\n",
    "    print(character)"
   ]
  },
  {
   "cell_type": "code",
   "execution_count": 11,
   "metadata": {},
   "outputs": [
    {
     "name": "stdout",
     "output_type": "stream",
     "text": [
      "['GOT', 'NARCOS', 'VICE', 'LUIZ', 'CLAUDIO']\n",
      "5\n"
     ]
    }
   ],
   "source": [
    "# Thanks so much for reading my book. Feel free to contact me at cory[at]theselftaughtprogrammer.io.\n",
    "\n",
    "tv = [\"GOT\",\n",
    "     \"Narcos\",\n",
    "     \"Vice\",\n",
    "     \"Luiz\", \"Claudio\"]\n",
    "i = 0\n",
    "for show in tv:\n",
    "    new = tv[i]\n",
    "    new = new.upper()\n",
    "    tv[i] = new\n",
    "    i += 1\n",
    "\n",
    "\n",
    "print(tv)\n",
    "print(i)"
   ]
  },
  {
   "cell_type": "code",
   "execution_count": 12,
   "metadata": {},
   "outputs": [
    {
     "name": "stdout",
     "output_type": "stream",
     "text": [
      "['GOT', 'NARCOS', 'VICE']\n"
     ]
    }
   ],
   "source": [
    "tv = [\"GOT\", \"Narcos\",\"Vice\"]\n",
    "\n",
    "for i, show in enumerate(tv):\n",
    "    new = tv[i]\n",
    "    new = new.upper()\n",
    "    tv[i] = new\n",
    "\n",
    "print(tv)"
   ]
  },
  {
   "cell_type": "code",
   "execution_count": 13,
   "metadata": {},
   "outputs": [
    {
     "name": "stdout",
     "output_type": "stream",
     "text": [
      "['GOT', 'NARCOS', 'VICE', 'ARRESTED DEVELOPMENT', 'FRIENDS', 'ALWAYS SUNNY']\n"
     ]
    }
   ],
   "source": [
    "\n",
    "tv = [\"GOT\", \"Narcos\",\"Vice\"]\n",
    "coms = [\"Arrested Development\",\"friends\",\"Always Sunny\"]\n",
    "all_shows = []\n",
    "\n",
    "for show in tv:\n",
    "    show = show.upper()\n",
    "    all_shows.append(show)\n",
    "\n",
    "for show in coms:\n",
    "    show = show.upper()\n",
    "    all_shows.append(show)\n",
    "\n",
    "print(all_shows)"
   ]
  },
  {
   "cell_type": "code",
   "execution_count": 20,
   "metadata": {},
   "outputs": [
    {
     "name": "stdout",
     "output_type": "stream",
     "text": [
      "1\n",
      "2\n",
      "3\n",
      "4\n",
      "5\n",
      "6\n",
      "7\n",
      "8\n",
      "9\n",
      "10\n",
      "\n",
      "\n",
      "0\n",
      "1\n",
      "2\n",
      "3\n",
      "4\n",
      "5\n",
      "6\n",
      "7\n",
      "8\n",
      "9\n",
      "10\n"
     ]
    }
   ],
   "source": [
    "for i in range(1,11):\n",
    "    print(i)\n",
    "print(\"\\n\")\n",
    "\n",
    "for u in range(11):\n",
    "    print(u)\n"
   ]
  },
  {
   "cell_type": "code",
   "execution_count": 23,
   "metadata": {},
   "outputs": [
    {
     "name": "stdout",
     "output_type": "stream",
     "text": [
      "10\n",
      "9\n",
      "8\n",
      "7\n",
      "6\n",
      "5\n",
      "4\n",
      "3\n",
      "2\n",
      "1\n",
      "Happy New Year!\n"
     ]
    }
   ],
   "source": [
    "\n",
    "# http://tinyurl.com/h7792op\n",
    "\n",
    "#expressão\n",
    "x = 10\n",
    "while x > 0:\n",
    "    print('{}'.format(x))\n",
    "    x -= 1\n",
    "print(\"Happy New Year!\")"
   ]
  },
  {
   "cell_type": "code",
   "execution_count": 25,
   "metadata": {},
   "outputs": [
    {
     "name": "stdout",
     "output_type": "stream",
     "text": [
      "0\n"
     ]
    }
   ],
   "source": [
    "for i in range(0,100):\n",
    "    print(i)\n",
    "    break"
   ]
  },
  {
   "cell_type": "code",
   "execution_count": 28,
   "metadata": {},
   "outputs": [
    {
     "name": "stdout",
     "output_type": "stream",
     "text": [
      "Type q to quit\n",
      "0\n",
      "Type q to quit\n",
      "1\n",
      "Type q to quit\n",
      "2\n",
      "Type q to quit\n",
      "0\n",
      "Type q to quit\n",
      "1\n",
      "Type q to quit\n",
      "2\n",
      "Type q to quit\n",
      "0\n",
      "Type q to quit\n",
      "1\n",
      "Type q to quit\n",
      "2\n"
     ]
    }
   ],
   "source": [
    "# Thanks so much for reading my book. Feel free to contact me at cory[at]theselftaughtprogrammer.io.\n",
    "\n",
    "\n",
    "qs = [\"What is your name?\",\n",
    "      \"What is your fav. color?\",\n",
    "      \"What is your quest?\"]\n",
    "n = 0\n",
    "while True:\n",
    "    print(\"Type q to quit\")\n",
    "    a = input(qs[n])\n",
    "    print(n)\n",
    "    if a == \"q\":\n",
    "        break\n",
    "    n = (n + 1) % 3"
   ]
  },
  {
   "cell_type": "code",
   "execution_count": 29,
   "metadata": {},
   "outputs": [
    {
     "name": "stdout",
     "output_type": "stream",
     "text": [
      "1\n",
      "2\n",
      "4\n",
      "5\n",
      "6\n",
      "7\n",
      "8\n"
     ]
    }
   ],
   "source": [
    "for i in range(1,9):\n",
    "    if i == 3:\n",
    "        continue\n",
    "    print(i)"
   ]
  },
  {
   "cell_type": "code",
   "execution_count": 35,
   "metadata": {},
   "outputs": [
    {
     "name": "stdout",
     "output_type": "stream",
     "text": [
      "1\n",
      "a__\n",
      "b__\n",
      "c__\n",
      "d__\n",
      "e__\n",
      "2\n",
      "a__\n",
      "b__\n",
      "c__\n",
      "d__\n",
      "e__\n"
     ]
    }
   ],
   "source": [
    "\n",
    "# http://tinyurl.com/gtqz6vt\n",
    "\n",
    "\n",
    "for i in range(1, 3):\n",
    "    print(i)\n",
    "    for letter in [\"a__\", \"b__\", \"c__\",\"d__\",\"e__\"]:\n",
    "        print(letter)"
   ]
  },
  {
   "cell_type": "code",
   "execution_count": 38,
   "metadata": {},
   "outputs": [
    {
     "name": "stdout",
     "output_type": "stream",
     "text": [
      "[6, 7, 8, 9, 7, 8, 9, 10, 8, 9, 10, 11, 9, 10, 11, 12]\n"
     ]
    }
   ],
   "source": [
    "# Thank you so much for purchasing my book! Feel free to contact me at cory[at]theselftaughtprogrammer.io.\n",
    "# If you are enjoying it, please consider leaving a review on Amazon :). Keep up the hard work!\n",
    "\n",
    "list1 = [1, 2, 3, 4]\n",
    "list2 = [5, 6, 7, 8]\n",
    "added = []\n",
    "for i in list1:\n",
    "    for j in list2:\n",
    "        added.append(i + j)\n",
    "\n",
    "\n",
    "print(added)"
   ]
  },
  {
   "cell_type": "code",
   "execution_count": 39,
   "metadata": {},
   "outputs": [
    {
     "name": "stdout",
     "output_type": "stream",
     "text": [
      "1\n",
      "2\n",
      "3\n",
      "4\n",
      "1\n",
      "2\n",
      "3\n",
      "4\n",
      "1\n",
      "2\n",
      "3\n",
      "4\n",
      "1\n",
      "2\n",
      "3\n",
      "4\n",
      "1\n",
      "2\n",
      "3\n",
      "4\n"
     ]
    }
   ],
   "source": [
    "while input(\"y or n\") != \"n\":\n",
    "    for i in range(1,5):\n",
    "        print(i)"
   ]
  },
  {
   "cell_type": "markdown",
   "metadata": {},
   "source": [
    "## Desafios\n",
    "***"
   ]
  },
  {
   "cell_type": "code",
   "execution_count": 57,
   "metadata": {},
   "outputs": [
    {
     "name": "stdout",
     "output_type": "stream",
     "text": [
      "[10, 10, 10, 10, 10, 20, 20, 20, 20, 20, 30, 30, 30, 30, 30, 50, 50, 50, 50, 50, 70, 70, 70, 70, 70]\n",
      "70\n"
     ]
    }
   ],
   "source": [
    "# # Desafio 1 ############\n",
    "# lista = [\"The Walking Dead\", \"Entourage\", \"The Sopranos\", \"The Vampire Diaries\"]\n",
    "# for i in (lista):\n",
    "#     print(i)\n",
    "\n",
    "\n",
    "# # Desafio 2 ############\n",
    "# for i in range(25,51):\n",
    "#     print(i)\n",
    "\n",
    "    \n",
    "# # Desafio 3 ############\n",
    "# shows = [\"The Walking Dead\", \"Entourage\", \"The Sopranos\", \"The Vampire Diaries\"]\n",
    "# for indexador, show in enumerate(shows):\n",
    "#     print(indexador)\n",
    "#     print(show)\n",
    "\n",
    "# # Desafio 4 ############\n",
    "# numeros = [11, 32, 33, 15, 1]\n",
    "\n",
    "# while True:\n",
    "#     resposta = input(\"Adivinhe um número ou digite q para sair\")\n",
    "\n",
    "#     if resposta == \"q\":\n",
    "#         print(\"Acabouuuuu\")\n",
    "#         break\n",
    "\n",
    "#     try:\n",
    "#         resposta = int(resposta)\n",
    "#     except ValueError:\n",
    "#         print(\"please type a number or q to quit.\")\n",
    "\n",
    "#     if resposta in numeros:\n",
    "#         print(\"You guessed correctly!\")\n",
    "#     else:\n",
    "#         print(\"You guessed incorrectly!\")\n",
    "\n",
    "# Desafio 5 ############\n",
    "numeros1 = [1, 2, 3, 5, 7]\n",
    "numeros2 = [10, 10, 10, 10, 10]\n",
    "numeros = []\n",
    "\n",
    "for i in numeros1:\n",
    "    for j in numeros2:\n",
    "        mult = i * j\n",
    "        numeros.append(i * j)\n",
    "print(numeros)        \n",
    "print(mult)        \n",
    "\n"
   ]
  }
 ],
 "metadata": {
  "kernelspec": {
   "display_name": "Python 3",
   "language": "python",
   "name": "python3"
  },
  "language_info": {
   "codemirror_mode": {
    "name": "ipython",
    "version": 3
   },
   "file_extension": ".py",
   "mimetype": "text/x-python",
   "name": "python",
   "nbconvert_exporter": "python",
   "pygments_lexer": "ipython3",
   "version": "3.11.9"
  }
 },
 "nbformat": 4,
 "nbformat_minor": 2
}
