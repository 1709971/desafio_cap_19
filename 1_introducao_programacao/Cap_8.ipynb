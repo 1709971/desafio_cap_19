{
 "cells": [
  {
   "cell_type": "markdown",
   "metadata": {},
   "source": [
    "## Cápitulo 8\n",
    "***\n",
    "### Módulos\n",
    "- internos: importar / "
   ]
  },
  {
   "cell_type": "code",
   "execution_count": 3,
   "metadata": {},
   "outputs": [
    {
     "name": "stdout",
     "output_type": "stream",
     "text": [
      "8.0\n",
      "19\n",
      "\n",
      " - - - - - - - - - \n",
      "22.5\n",
      "15.0\n",
      "10\n",
      "\n",
      " - - - - - - - - - \n",
      "True\n",
      "False\n"
     ]
    }
   ],
   "source": [
    "import math\n",
    "import random\n",
    "import statistics\n",
    "import keyword\n",
    "\n",
    "print(math.pow(2,3))\n",
    "print(random.randint(0,100))\n",
    "\n",
    "print(\"\\n\",\"- - - - - - - - - \")\n",
    "nuns = [10,50,10,20]\n",
    "print(statistics.mean(nuns))\n",
    "print(statistics.median(nuns))\n",
    "print(statistics.mode(nuns))\n",
    "\n",
    "print(\"\\n\",\"- - - - - - - - - \")\n",
    "print(keyword.iskeyword(\"for\"))\n",
    "print(keyword.iskeyword(\"hello\"))\n"
   ]
  },
  {
   "cell_type": "markdown",
   "metadata": {},
   "source": [
    "## Desafios"
   ]
  },
  {
   "cell_type": "code",
   "execution_count": 20,
   "metadata": {},
   "outputs": [
    {
     "data": {
      "text/plain": [
       "22.5"
      ]
     },
     "execution_count": 20,
     "metadata": {},
     "output_type": "execute_result"
    }
   ],
   "source": [
    "statistics.mean(nuns)\n",
    "\n",
    "import tstp.modulo1\n",
    "\n",
    "modulo1.cubo"
   ]
  }
 ],
 "metadata": {
  "kernelspec": {
   "display_name": "Python 3",
   "language": "python",
   "name": "python3"
  },
  "language_info": {
   "codemirror_mode": {
    "name": "ipython",
    "version": 3
   },
   "file_extension": ".py",
   "mimetype": "text/x-python",
   "name": "python",
   "nbconvert_exporter": "python",
   "pygments_lexer": "ipython3",
   "version": "3.11.9"
  }
 },
 "nbformat": 4,
 "nbformat_minor": 2
}
